{
 "cells": [
  {
   "cell_type": "code",
   "execution_count": 714,
   "metadata": {},
   "outputs": [],
   "source": [
    "# importing libraries\n",
    "import pandas as pd\n",
    "import numpy as np\n",
    "from matplotlib import pyplot as plt\n",
    "import seaborn as sns\n",
    "from sklearn.model_selection import train_test_split\n",
    "from sklearn.ensemble import RandomForestClassifier\n",
    "from sklearn.pipeline import Pipeline\n",
    "from sklearn import datasets\n",
    "from sklearn.datasets import make_classification\n",
    "from sklearn.preprocessing import OneHotEncoder, LabelEncoder\n",
    "from sklearn.metrics import accuracy_score\n",
    "from sklearn.preprocessing import StandardScaler\n",
    "from sklearn.neighbors import KNeighborsClassifier\n",
    "from sklearn.metrics import accuracy_score, classification_report"
   ]
  },
  {
   "cell_type": "code",
   "execution_count": 715,
   "metadata": {},
   "outputs": [],
   "source": [
    "#importing data\n",
    "train = pd.read_csv(\"/Users/damacm1143/Downloads/Train.csv\")\n",
    "ned = train"
   ]
  },
  {
   "cell_type": "code",
   "execution_count": 716,
   "metadata": {},
   "outputs": [],
   "source": [
    "test = pd.read_csv(\"/Users/damacm1143/Downloads/Test(1).csv\")"
   ]
  },
  {
   "cell_type": "code",
   "execution_count": 717,
   "metadata": {},
   "outputs": [],
   "source": [
    "# # len_train = len(train)\n",
    "# # new_df = pd.concat([train, test], sort=False)\n",
    "\n",
    "# #getting categorical dummies\n",
    "# categorical_columns = [\"Math\",\"Mathlit\", \"Additional_lang\", \"Home_lang\", \"Science\"]\n",
    "# new_df = pd.get_dummies(train, columns=categorical_columns)\n",
    "# new_df.head()"
   ]
  },
  {
   "cell_type": "code",
   "execution_count": 718,
   "metadata": {},
   "outputs": [],
   "source": [
    "# Encoding the columns\n",
    "\n",
    "# categorical_columns = [\"Math\",\"Mathlit\", \"Additional_lang\", \"Home_lang\", \"Science\"]\n",
    "\n",
    "\n",
    "from sklearn import preprocessing  \n",
    "label_encoder = preprocessing.LabelEncoder() \n",
    "\n",
    "train['Math']= label_encoder.fit_transform(train['Math'])"
   ]
  },
  {
   "cell_type": "code",
   "execution_count": 719,
   "metadata": {},
   "outputs": [],
   "source": [
    "from sklearn import preprocessing  \n",
    "label_encoder = preprocessing.LabelEncoder() \n",
    "\n",
    "train['Mathlit']= label_encoder.fit_transform(train['Mathlit'])"
   ]
  },
  {
   "cell_type": "code",
   "execution_count": 720,
   "metadata": {},
   "outputs": [],
   "source": [
    "from sklearn import preprocessing  \n",
    "label_encoder = preprocessing.LabelEncoder() \n",
    "\n",
    "train['Science']= label_encoder.fit_transform(train['Science'])"
   ]
  },
  {
   "cell_type": "code",
   "execution_count": 721,
   "metadata": {},
   "outputs": [],
   "source": [
    "from sklearn import preprocessing  \n",
    "label_encoder = preprocessing.LabelEncoder() \n",
    "\n",
    "train['Home_lang']= label_encoder.fit_transform(train['Home_lang'])"
   ]
  },
  {
   "cell_type": "code",
   "execution_count": 722,
   "metadata": {},
   "outputs": [],
   "source": [
    "from sklearn import preprocessing  \n",
    "label_encoder = preprocessing.LabelEncoder() \n",
    "\n",
    "train['Additional_lang']= label_encoder.fit_transform(train['Additional_lang'])"
   ]
  },
  {
   "cell_type": "code",
   "execution_count": 723,
   "metadata": {},
   "outputs": [],
   "source": [
    "# Encoding the columns\n",
    "\n",
    "from sklearn import preprocessing  \n",
    "label_encoder = preprocessing.LabelEncoder() \n",
    "\n",
    "test['Math']= label_encoder.fit_transform(test['Math'])\n",
    "\n",
    "from sklearn import preprocessing  \n",
    "label_encoder = preprocessing.LabelEncoder() \n",
    "\n",
    "test['Mathlit']= label_encoder.fit_transform(test['Mathlit'])\n",
    "\n",
    "from sklearn import preprocessing  \n",
    "label_encoder = preprocessing.LabelEncoder() \n",
    "\n",
    "test['Science']= label_encoder.fit_transform(test['Science'])\n",
    "\n",
    "from sklearn import preprocessing  \n",
    "label_encoder = preprocessing.LabelEncoder() \n",
    "\n",
    "test['Home_lang']= label_encoder.fit_transform(test['Home_lang'])\n",
    "\n",
    "from sklearn import preprocessing  \n",
    "label_encoder = preprocessing.LabelEncoder() \n",
    "\n",
    "test['Additional_lang']= label_encoder.fit_transform(test['Additional_lang'])"
   ]
  },
  {
   "cell_type": "code",
   "execution_count": 724,
   "metadata": {},
   "outputs": [],
   "source": [
    "\n",
    "# #getting categorical dummies\n",
    "# categorical_columns = [ \"Matric\", \"Degree\", \"Diploma\"]\n",
    "# new_df = pd.get_dummies(train, columns=categorical_columns)\n",
    "# new_df.head()"
   ]
  },
  {
   "cell_type": "code",
   "execution_count": 725,
   "metadata": {},
   "outputs": [],
   "source": [
    "from sklearn import preprocessing  \n",
    "label_encoder = preprocessing.LabelEncoder() \n",
    "\n",
    "train['Matric']= label_encoder.fit_transform(train['Matric'])"
   ]
  },
  {
   "cell_type": "code",
   "execution_count": 726,
   "metadata": {},
   "outputs": [],
   "source": [
    "from sklearn import preprocessing  \n",
    "label_encoder = preprocessing.LabelEncoder() \n",
    "\n",
    "test['Matric']= label_encoder.fit_transform(test['Matric'])\n",
    "\n",
    "from sklearn import preprocessing  \n",
    "label_encoder = preprocessing.LabelEncoder() \n",
    "\n",
    "test['Degree']= label_encoder.fit_transform(test['Degree'])\n",
    "\n",
    "from sklearn import preprocessing  \n",
    "label_encoder = preprocessing.LabelEncoder() \n",
    "\n",
    "test['Diploma']= label_encoder.fit_transform(test['Diploma'])\n",
    "\n",
    "from sklearn import preprocessing  \n",
    "label_encoder = preprocessing.LabelEncoder() \n",
    "\n",
    "test['Status']= label_encoder.fit_transform(test['Status'])\n",
    "\n",
    "from sklearn import preprocessing  \n",
    "label_encoder = preprocessing.LabelEncoder() \n",
    "\n",
    "test['Province']= label_encoder.fit_transform(test['Province'])\n",
    "\n",
    "from sklearn import preprocessing  \n",
    "label_encoder = preprocessing.LabelEncoder() \n",
    "\n",
    "test['Geography']= label_encoder.fit_transform(test['Geography'])"
   ]
  },
  {
   "cell_type": "code",
   "execution_count": 727,
   "metadata": {},
   "outputs": [],
   "source": [
    "from sklearn import preprocessing  \n",
    "label_encoder = preprocessing.LabelEncoder() \n",
    "\n",
    "train['Degree']= label_encoder.fit_transform(train['Degree'])"
   ]
  },
  {
   "cell_type": "code",
   "execution_count": 728,
   "metadata": {},
   "outputs": [],
   "source": [
    "from sklearn import preprocessing  \n",
    "label_encoder = preprocessing.LabelEncoder() \n",
    "\n",
    "train['Diploma']= label_encoder.fit_transform(train['Diploma'])"
   ]
  },
  {
   "cell_type": "code",
   "execution_count": 729,
   "metadata": {},
   "outputs": [],
   "source": [
    "from sklearn import preprocessing  \n",
    "label_encoder = preprocessing.LabelEncoder() \n",
    "\n",
    "train['Status']= label_encoder.fit_transform(train['Status'])"
   ]
  },
  {
   "cell_type": "code",
   "execution_count": 730,
   "metadata": {},
   "outputs": [],
   "source": [
    "from sklearn import preprocessing  \n",
    "label_encoder = preprocessing.LabelEncoder() \n",
    "\n",
    "train['Province']= label_encoder.fit_transform(train['Province'])"
   ]
  },
  {
   "cell_type": "code",
   "execution_count": 731,
   "metadata": {},
   "outputs": [],
   "source": [
    "from sklearn import preprocessing  \n",
    "label_encoder = preprocessing.LabelEncoder() \n",
    "\n",
    "train['Geography']= label_encoder.fit_transform(train['Geography'])"
   ]
  },
  {
   "cell_type": "code",
   "execution_count": 732,
   "metadata": {},
   "outputs": [],
   "source": [
    "Y = train['Target']\n",
    "X = train.drop(columns=['Target','Tenure','Person_id','Survey_date','Schoolquintile','Round','Math', 'Mathlit', 'Additional_lang', 'Home_lang', 'Science']) "
   ]
  },
  {
   "cell_type": "code",
   "execution_count": 733,
   "metadata": {},
   "outputs": [],
   "source": [
    "x_test2 = test.drop(columns=['Tenure','Person_id','Survey_date','Schoolquintile','Round','Math', 'Mathlit', 'Additional_lang', 'Home_lang', 'Science']) "
   ]
  },
  {
   "cell_type": "code",
   "execution_count": 734,
   "metadata": {},
   "outputs": [
    {
     "data": {
      "text/plain": [
       "Index(['Status', 'Geography', 'Province', 'Matric', 'Degree', 'Diploma',\n",
       "       'Female', 'Sa_citizen', 'Birthyear', 'Birthmonth'],\n",
       "      dtype='object')"
      ]
     },
     "execution_count": 734,
     "metadata": {},
     "output_type": "execute_result"
    }
   ],
   "source": [
    "X.columns"
   ]
  },
  {
   "cell_type": "code",
   "execution_count": 735,
   "metadata": {},
   "outputs": [
    {
     "data": {
      "text/plain": [
       "Status        0\n",
       "Geography     0\n",
       "Province      0\n",
       "Matric        0\n",
       "Degree        0\n",
       "Diploma       0\n",
       "Female        0\n",
       "Sa_citizen    0\n",
       "Birthyear     0\n",
       "Birthmonth    0\n",
       "dtype: int64"
      ]
     },
     "execution_count": 735,
     "metadata": {},
     "output_type": "execute_result"
    }
   ],
   "source": [
    "X.isnull().sum()"
   ]
  },
  {
   "cell_type": "code",
   "execution_count": 736,
   "metadata": {},
   "outputs": [
    {
     "data": {
      "image/png": "[encoded data removed]",
      "text/plain": [
       "<Figure size 1000x800 with 2 Axes>"
      ]
     },
     "metadata": {},
     "output_type": "display_data"
    }
   ],
   "source": [
    "def plot_correlation_matrix(training, figsize=(10, 8)):\n",
    "    numeric_data = train.select_dtypes(include=[np.number])  \n",
    "    corr = numeric_data.corr()\n",
    "    plt.figure(figsize=figsize)\n",
    "    sns.heatmap(corr, annot=True, cmap='coolwarm', fmt=\".2f\")\n",
    "    plt.title('Correlation Heatmap')\n",
    "    plt.show()\n",
    "plot_correlation_matrix(train, figsize=(10, 8))"
   ]
  },
  {
   "cell_type": "code",
   "execution_count": 737,
   "metadata": {},
   "outputs": [
    {
     "data": {
      "text/plain": [
       "array([ True, False,  True, False,  True,  True, False, False,  True,\n",
       "        True])"
      ]
     },
     "execution_count": 737,
     "metadata": {},
     "output_type": "execute_result"
    }
   ],
   "source": [
    "from sklearn.feature_selection import VarianceThreshold\n",
    "\n",
    "v_thresh = VarianceThreshold(threshold= 0.95)\n",
    "v_thresh.fit(X)\n",
    "v_thresh.get_support()"
   ]
  },
  {
   "cell_type": "code",
   "execution_count": 738,
   "metadata": {},
   "outputs": [
    {
     "data": {
      "text/plain": [
       "Index(['Status', 'Geography', 'Province', 'Matric', 'Degree', 'Diploma',\n",
       "       'Female', 'Sa_citizen', 'Birthyear', 'Birthmonth'],\n",
       "      dtype='object')"
      ]
     },
     "execution_count": 738,
     "metadata": {},
     "output_type": "execute_result"
    }
   ],
   "source": [
    "X.columns"
   ]
  },
  {
   "cell_type": "code",
   "execution_count": 739,
   "metadata": {},
   "outputs": [],
   "source": [
    "from imblearn.over_sampling import RandomOverSampler\n",
    "from sklearn.model_selection import train_test_split\n",
    "\n",
    "# define oversampling strategy\n",
    "# The code snippet you provided is using the RandomOverSampler from the imbalanced-learn library to perform oversampling on the dataset.\n",
    "# sample = RandomOverSampler(sampling_strategy='minority')\n",
    "# X_train_over, Y_train_over = sample.fit_resample(X, Y)\n",
    "\n",
    "# X_train, X_test, Y_train, Y_test = train_test_split(X,Y, test_size=0.2, random_state=23)\n"
   ]
  },
  {
   "cell_type": "code",
   "execution_count": 740,
   "metadata": {},
   "outputs": [
    {
     "data": {
      "text/html": [
       "<style>#sk-container-id-26 {color: black;background-color: white;}#sk-container-id-26 pre{padding: 0;}#sk-container-id-26 div.sk-toggleable {background-color: white;}#sk-container-id-26 label.sk-toggleable__label {cursor: pointer;display: block;width: 100%;margin-bottom: 0;padding: 0.3em;box-sizing: border-box;text-align: center;}#sk-container-id-26 label.sk-toggleable__label-arrow:before {content: \"▸\";float: left;margin-right: 0.25em;color: #696969;}#sk-container-id-26 label.sk-toggleable__label-arrow:hover:before {color: black;}#sk-container-id-26 div.sk-estimator:hover label.sk-toggleable__label-arrow:before {color: black;}#sk-container-id-26 div.sk-toggleable__content {max-height: 0;max-width: 0;overflow: hidden;text-align: left;background-color: #f0f8ff;}#sk-container-id-26 div.sk-toggleable__content pre {margin: 0.2em;color: black;border-radius: 0.25em;background-color: #f0f8ff;}#sk-container-id-26 input.sk-toggleable__control:checked~div.sk-toggleable__content {max-height: 200px;max-width: 100%;overflow: auto;}#sk-container-id-26 input.sk-toggleable__control:checked~label.sk-toggleable__label-arrow:before {content: \"▾\";}#sk-container-id-26 div.sk-estimator input.sk-toggleable__control:checked~label.sk-toggleable__label {background-color: #d4ebff;}#sk-container-id-26 div.sk-label input.sk-toggleable__control:checked~label.sk-toggleable__label {background-color: #d4ebff;}#sk-container-id-26 input.sk-hidden--visually {border: 0;clip: rect(1px 1px 1px 1px);clip: rect(1px, 1px, 1px, 1px);height: 1px;margin: -1px;overflow: hidden;padding: 0;position: absolute;width: 1px;}#sk-container-id-26 div.sk-estimator {font-family: monospace;background-color: #f0f8ff;border: 1px dotted black;border-radius: 0.25em;box-sizing: border-box;margin-bottom: 0.5em;}#sk-container-id-26 div.sk-estimator:hover {background-color: #d4ebff;}#sk-container-id-26 div.sk-parallel-item::after {content: \"\";width: 100%;border-bottom: 1px solid gray;flex-grow: 1;}#sk-container-id-26 div.sk-label:hover label.sk-toggleable__label {background-color: #d4ebff;}#sk-container-id-26 div.sk-serial::before {content: \"\";position: absolute;border-left: 1px solid gray;box-sizing: border-box;top: 0;bottom: 0;left: 50%;z-index: 0;}#sk-container-id-26 div.sk-serial {display: flex;flex-direction: column;align-items: center;background-color: white;padding-right: 0.2em;padding-left: 0.2em;position: relative;}#sk-container-id-26 div.sk-item {position: relative;z-index: 1;}#sk-container-id-26 div.sk-parallel {display: flex;align-items: stretch;justify-content: center;background-color: white;position: relative;}#sk-container-id-26 div.sk-item::before, #sk-container-id-26 div.sk-parallel-item::before {content: \"\";position: absolute;border-left: 1px solid gray;box-sizing: border-box;top: 0;bottom: 0;left: 50%;z-index: -1;}#sk-container-id-26 div.sk-parallel-item {display: flex;flex-direction: column;z-index: 1;position: relative;background-color: white;}#sk-container-id-26 div.sk-parallel-item:first-child::after {align-self: flex-end;width: 50%;}#sk-container-id-26 div.sk-parallel-item:last-child::after {align-self: flex-start;width: 50%;}#sk-container-id-26 div.sk-parallel-item:only-child::after {width: 0;}#sk-container-id-26 div.sk-dashed-wrapped {border: 1px dashed gray;margin: 0 0.4em 0.5em 0.4em;box-sizing: border-box;padding-bottom: 0.4em;background-color: white;}#sk-container-id-26 div.sk-label label {font-family: monospace;font-weight: bold;display: inline-block;line-height: 1.2em;}#sk-container-id-26 div.sk-label-container {text-align: center;}#sk-container-id-26 div.sk-container {/* jupyter's `normalize.less` sets `[hidden] { display: none; }` but bootstrap.min.css set `[hidden] { display: none !important; }` so we also need the `!important` here to be able to override the default hidden behavior on the sphinx rendered scikit-learn.org. See: https://github.com/scikit-learn/scikit-learn/issues/21755 */display: inline-block !important;position: relative;}#sk-container-id-26 div.sk-text-repr-fallback {display: none;}</style><div id=\"sk-container-id-26\" class=\"sk-top-container\"><div class=\"sk-text-repr-fallback\"><pre>RandomForestClassifier()</pre><b>In a Jupyter environment, please rerun this cell to show the HTML representation or trust the notebook. <br />On GitHub, the HTML representation is unable to render, please try loading this page with nbviewer.org.</b></div><div class=\"sk-container\" hidden><div class=\"sk-item\"><div class=\"sk-estimator sk-toggleable\"><input class=\"sk-toggleable__control sk-hidden--visually\" id=\"sk-estimator-id-26\" type=\"checkbox\" checked><label for=\"sk-estimator-id-26\" class=\"sk-toggleable__label sk-toggleable__label-arrow\">RandomForestClassifier</label><div class=\"sk-toggleable__content\"><pre>RandomForestClassifier()</pre></div></div></div></div></div>"
      ],
      "text/plain": [
       "RandomForestClassifier()"
      ]
     },
     "execution_count": 740,
     "metadata": {},
     "output_type": "execute_result"
    }
   ],
   "source": [
    "\n",
    "from sklearn.ensemble import RandomForestClassifier\n",
    "\n",
    "random = RandomForestClassifier()\n",
    "random.fit(X,Y)"
   ]
  },
  {
   "cell_type": "code",
   "execution_count": 741,
   "metadata": {},
   "outputs": [],
   "source": [
    "# from sklearn.linear_model import LogisticRegression\n",
    "\n",
    "# lr = LogisticRegression()\n",
    "# lr.fit(X,Y)"
   ]
  },
  {
   "cell_type": "code",
   "execution_count": 742,
   "metadata": {},
   "outputs": [],
   "source": [
    "y_predict=random.predict(x_test2)"
   ]
  },
  {
   "cell_type": "code",
   "execution_count": 743,
   "metadata": {},
   "outputs": [],
   "source": [
    "predictions = pd.DataFrame(y_predict, columns = ['FraudResult'])\n",
    "\n",
    "id = test['Person_id']\n",
    "\n",
    "zindi = pd.concat((id,predictions ),axis=1)\n",
    "\n",
    "zindi.to_csv(\"/Users/damacm1143/Downloads/EMP18.csv\", index=False)\n"
   ]
  },
  {
   "cell_type": "code",
   "execution_count": 749,
   "metadata": {},
   "outputs": [],
   "source": [
    "# from sklearn.metrics import confusion_matrix\n",
    "\n",
    "# conf_matrix = confusion_matrix(Y, y_predict)\n",
    "# print(conf_matrix)"
   ]
  },
  {
   "cell_type": "code",
   "execution_count": 745,
   "metadata": {},
   "outputs": [
    {
     "ename": "NameError",
     "evalue": "name 'clf_pipeline' is not defined",
     "output_type": "error",
     "traceback": [
      "\u001b[0;31m---------------------------------------------------------------------------\u001b[0m",
      "\u001b[0;31mNameError\u001b[0m                                 Traceback (most recent call last)",
      "Cell \u001b[0;32mIn[745], line 4\u001b[0m\n\u001b[1;32m      1\u001b[0m \u001b[38;5;28;01mfrom\u001b[39;00m \u001b[38;5;21;01msklearn\u001b[39;00m\u001b[38;5;21;01m.\u001b[39;00m\u001b[38;5;21;01mmetrics\u001b[39;00m \u001b[38;5;28;01mimport\u001b[39;00m confusion_matrix, classification_report\n\u001b[1;32m      3\u001b[0m \u001b[38;5;66;03m# Assuming 'clf_pipeline' is your trained pipeline\u001b[39;00m\n\u001b[0;32m----> 4\u001b[0m y_pred \u001b[38;5;241m=\u001b[39m clf_pipeline\u001b[38;5;241m.\u001b[39mpredict(X_test)  \u001b[38;5;66;03m# Predicted class labels\u001b[39;00m\n\u001b[1;32m      6\u001b[0m \u001b[38;5;66;03m# Compute confusion matrix\u001b[39;00m\n\u001b[1;32m      7\u001b[0m conf_matrix \u001b[38;5;241m=\u001b[39m confusion_matrix(Y_test, y_pred)\n",
      "\u001b[0;31mNameError\u001b[0m: name 'clf_pipeline' is not defined"
     ]
    }
   ],
   "source": [
    "from sklearn.metrics import confusion_matrix, classification_report\n",
    "\n",
    "# Assuming 'clf_pipeline' is your trained pipeline\n",
    "y_pred = clf_pipeline.predict(X_test)  # Predicted class labels\n",
    "\n",
    "# Compute confusion matrix\n",
    "conf_matrix = confusion_matrix(Y_test, y_pred)\n",
    "print(\"Confusion Matrix:\")\n",
    "print(conf_matrix)\n",
    "\n",
    "# Display confusion matrix with labels\n",
    "labels = ['0: Not Fraud', '1: Fraud']\n",
    "conf_df = pd.DataFrame(conf_matrix, index=labels, columns=labels)\n",
    "print(\"\\nConfusion Matrix (with labels):\")\n",
    "print(conf_df)\n",
    "\n",
    "# Print classification report\n",
    "print(\"\\nClassification Report:\")\n",
    "print(classification_report(Y_test, y_pred, target_names=['0', '1']))\n"
   ]
  }
 ],
 "metadata": {
  "kernelspec": {
   "display_name": "base",
   "language": "python",
   "name": "python3"
  },
  "language_info": {
   "codemirror_mode": {
    "name": "ipython",
    "version": 3
   },
   "file_extension": ".py",
   "mimetype": "text/x-python",
   "name": "python",
   "nbconvert_exporter": "python",
   "pygments_lexer": "ipython3",
   "version": "3.11.7"
  }
 },
 "nbformat": 4,
 "nbformat_minor": 2
}
